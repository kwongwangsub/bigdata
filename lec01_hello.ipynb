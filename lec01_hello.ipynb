{
  "nbformat": 4,
  "nbformat_minor": 0,
  "metadata": {
    "colab": {
      "name": "lec01_hello.ipynb",
      "provenance": [],
      "collapsed_sections": [],
      "toc_visible": true,
      "include_colab_link": true
    },
    "kernelspec": {
      "name": "python3",
      "display_name": "Python 3"
    }
  },
  "cells": [
    {
      "cell_type": "markdown",
      "metadata": {
        "id": "view-in-github",
        "colab_type": "text"
      },
      "source": [
        "<a href=\"https://colab.research.google.com/github/kwongwangsub/bigdata/blob/master/lec01_hello.ipynb\" target=\"_parent\"><img src=\"https://colab.research.google.com/assets/colab-badge.svg\" alt=\"Open In Colab\"/></a>"
      ]
    },
    {
      "cell_type": "code",
      "metadata": {
        "id": "Jy1RAmRU87HM",
        "colab": {
          "base_uri": "https://localhost:8080/",
          "height": 34
        },
        "outputId": "8789ef7c-c66f-4bb2-bfad-723f1582dc84"
      },
      "source": [
        "# 코드 입력후 화살표를 누르거나 Shift+Enter 키\n",
        "print('hello')"
      ],
      "execution_count": null,
      "outputs": [
        {
          "output_type": "stream",
          "text": [
            "hello\n"
          ],
          "name": "stdout"
        }
      ]
    },
    {
      "cell_type": "markdown",
      "metadata": {
        "id": "R6Uupe-aEmQ0"
      },
      "source": [
        "코랩 단축키 ctrl+M+H"
      ]
    },
    {
      "cell_type": "code",
      "metadata": {
        "id": "gPW-1JEl9Md4"
      },
      "source": [
        "# 주피터 노트북 사용법"
      ],
      "execution_count": null,
      "outputs": []
    },
    {
      "cell_type": "markdown",
      "metadata": {
        "id": "gyhXDun0QxOT"
      },
      "source": [
        "# 1.텍스트 셀을 추가하여 마크다운 입력 가능\n",
        "마크다운(markdown)은 일반 텍스트 문서의 양식을 편집하는 문법이다. README 파일이나 온라인 문서, 혹은 일반 텍스트 편집기로 문서 양식을 편집할 때 쓰인다. 마크다운을 이용해 작성된 문서는 쉽게 HTML 등 다른 문서형태로 변환이 가능하다."
      ]
    },
    {
      "cell_type": "code",
      "metadata": {
        "id": "PAn2yo8TVxay"
      },
      "source": [
        ""
      ],
      "execution_count": null,
      "outputs": []
    },
    {
      "cell_type": "markdown",
      "metadata": {
        "id": "CyKjFS4tVFvN"
      },
      "source": [
        "## 1.1.마크다운(MarkDwom)을 이용한 문서화\n",
        "* 코딩을 하면서 문서를 같이 작성할 수 있습니다.\n",
        "* 강조 할때는 `강조` 합니다.\n",
        "* Shift+Enter를 누르면 셀이 실행되고 다음 라인으로 이동합니다.\n",
        "* Esc를 누르고 \n",
        "  * a를 누르면 위에 셀이 추가 됩니다.\n",
        "  * b를 누르면 아래에 셀이 추가 됩니다.\n",
        "  * dd를 누르면 셀이 삭제 됩니다.\n"
      ]
    },
    {
      "cell_type": "code",
      "metadata": {
        "id": "65eeBt4lXiim",
        "colab": {
          "base_uri": "https://localhost:8080/",
          "height": 54
        },
        "outputId": "2e438856-7ad4-4569-b863-131dcb68a311"
      },
      "source": [
        "import keyword\n",
        "print(keyword.kwlist)"
      ],
      "execution_count": null,
      "outputs": [
        {
          "output_type": "stream",
          "text": [
            "['False', 'None', 'True', 'and', 'as', 'assert', 'break', 'class', 'continue', 'def', 'del', 'elif', 'else', 'except', 'finally', 'for', 'from', 'global', 'if', 'import', 'in', 'is', 'lambda', 'nonlocal', 'not', 'or', 'pass', 'raise', 'return', 'try', 'while', 'with', 'yield']\n"
          ],
          "name": "stdout"
        }
      ]
    },
    {
      "cell_type": "code",
      "metadata": {
        "id": "AvBUxyooe7rI",
        "colab": {
          "base_uri": "https://localhost:8080/",
          "height": 70
        },
        "outputId": "310bf20a-7a28-473d-c04e-04cc54ec7878"
      },
      "source": [
        "a = 'hello'\n",
        "b = 1.2\n",
        "print(a)\n",
        "print(b)\n",
        "print(a,b)"
      ],
      "execution_count": null,
      "outputs": [
        {
          "output_type": "stream",
          "text": [
            "hello\n",
            "1.2\n",
            "hello 1.2\n"
          ],
          "name": "stdout"
        }
      ]
    },
    {
      "cell_type": "code",
      "metadata": {
        "id": "19Yvau-VhRjs",
        "colab": {
          "base_uri": "https://localhost:8080/",
          "height": 34
        },
        "outputId": "11226d23-a4e0-4775-f1a6-0c7ae310517a"
      },
      "source": [
        "type(1), type(1.12)"
      ],
      "execution_count": null,
      "outputs": [
        {
          "output_type": "execute_result",
          "data": {
            "text/plain": [
              "(int, float)"
            ]
          },
          "metadata": {
            "tags": []
          },
          "execution_count": 12
        }
      ]
    },
    {
      "cell_type": "code",
      "metadata": {
        "id": "xLY-AKEvlC3R",
        "colab": {
          "base_uri": "https://localhost:8080/",
          "height": 52
        },
        "outputId": "c9f40d90-a0e8-4c2d-e84b-de8eda7c82ad"
      },
      "source": [
        "a = '문자열값'\n",
        "b = \"'문자열' 값\"\n",
        "print(a)\n",
        "print(b)"
      ],
      "execution_count": null,
      "outputs": [
        {
          "output_type": "stream",
          "text": [
            "문자열값\n",
            "'문자열' 값\n"
          ],
          "name": "stdout"
        }
      ]
    },
    {
      "cell_type": "code",
      "metadata": {
        "id": "9lIxCMSwmthK",
        "colab": {
          "base_uri": "https://localhost:8080/",
          "height": 87
        },
        "outputId": "5a8cc888-81e8-4f4a-86a4-badff76b87ed"
      },
      "source": [
        "hungry = True\n",
        "sleepy = False\n",
        "print(type(hungry))\n",
        "print(not hungry)\n",
        "print(hungry and sleepy)\n",
        "print(hungry or sleepy)\n"
      ],
      "execution_count": null,
      "outputs": [
        {
          "output_type": "stream",
          "text": [
            "<class 'bool'>\n",
            "False\n",
            "False\n",
            "True\n"
          ],
          "name": "stdout"
        }
      ]
    },
    {
      "cell_type": "code",
      "metadata": {
        "id": "eXT9H-ljok-J",
        "colab": {
          "base_uri": "https://localhost:8080/",
          "height": 282
        },
        "outputId": "c15bd54b-d467-4912-e30c-1df052916d06"
      },
      "source": [
        "import numpy as np\n",
        "import matplotlib.pylab as plt\n",
        "x = np.arange(-20, 20, 0.1)\n",
        "y = np.sin( x)\n",
        "plt.plot(x,y)\n",
        "y = np.cos( x)\n",
        "plt.plot(x,y)\n",
        "plt.show\n"
      ],
      "execution_count": null,
      "outputs": [
        {
          "output_type": "execute_result",
          "data": {
            "text/plain": [
              "<function matplotlib.pyplot.show>"
            ]
          },
          "metadata": {
            "tags": []
          },
          "execution_count": 24
        },
        {
          "output_type": "display_data",
          "data": {
            "image/png": "[encoded data removed]",
            "text/plain": [
              "<Figure size 432x288 with 1 Axes>"
            ]
          },
          "metadata": {
            "tags": [],
            "needs_background": "light"
          }
        }
      ]
    },
    {
      "cell_type": "code",
      "metadata": {
        "id": "sxUvs4Scxf0a",
        "colab": {
          "base_uri": "https://localhost:8080/",
          "height": 246
        },
        "outputId": "5ba76293-a8d5-4e90-f8f0-d30694e5f111"
      },
      "source": [
        "str = 'hello world!'\n",
        "for i, chr in enumerate(str) :\n",
        "  print(chr, i)\n",
        "print(str[0], str[-1])"
      ],
      "execution_count": null,
      "outputs": [
        {
          "output_type": "stream",
          "text": [
            "h 0\n",
            "e 1\n",
            "l 2\n",
            "l 3\n",
            "o 4\n",
            "  5\n",
            "w 6\n",
            "o 7\n",
            "r 8\n",
            "l 9\n",
            "d 10\n",
            "! 11\n",
            "h !\n"
          ],
          "name": "stdout"
        }
      ]
    },
    {
      "cell_type": "code",
      "metadata": {
        "id": "c8ivRbJq243J",
        "colab": {
          "base_uri": "https://localhost:8080/",
          "height": 70
        },
        "outputId": "af936fda-e248-41b7-eea6-a5c77b4b54a8"
      },
      "source": [
        "str = 'hello world!'\n",
        "print(str[0:5])\n",
        "print(str[6:])\n",
        "print(str[1:-2])"
      ],
      "execution_count": null,
      "outputs": [
        {
          "output_type": "stream",
          "text": [
            "hello\n",
            "world!\n",
            "ello worl\n"
          ],
          "name": "stdout"
        }
      ]
    },
    {
      "cell_type": "code",
      "metadata": {
        "id": "bYRrnB1I4OK7",
        "colab": {
          "base_uri": "https://localhost:8080/",
          "height": 122
        },
        "outputId": "17cbe74a-a3f4-4469-90ef-ce711e524086"
      },
      "source": [
        "t = (1, \"korea\", 3.5, 1)\n",
        "print(t)\n",
        "print(len(t))\n",
        "for i in t:\n",
        "  print(i)"
      ],
      "execution_count": null,
      "outputs": [
        {
          "output_type": "stream",
          "text": [
            "(1, 'korea', 3.5, 1)\n",
            "4\n",
            "1\n",
            "korea\n",
            "3.5\n",
            "1\n"
          ],
          "name": "stdout"
        }
      ]
    },
    {
      "cell_type": "code",
      "metadata": {
        "id": "BI0mYm5I6_m2",
        "colab": {
          "base_uri": "https://localhost:8080/",
          "height": 70
        },
        "outputId": "184f9513-61ba-442d-bbb9-2dbf3f1ee52f"
      },
      "source": [
        "a = [1, 3, 5, 'str', True]\n",
        "print(type(a))\n",
        "print(a[0])\n",
        "a.append('a')\n",
        "a.append(False)\n",
        "print(a)"
      ],
      "execution_count": null,
      "outputs": [
        {
          "output_type": "stream",
          "text": [
            "<class 'list'>\n",
            "1\n",
            "[1, 3, 5, 'str', True, 'a', False]\n"
          ],
          "name": "stdout"
        }
      ]
    },
    {
      "cell_type": "code",
      "metadata": {
        "id": "xAc0p0--9MXj",
        "colab": {
          "base_uri": "https://localhost:8080/",
          "height": 87
        },
        "outputId": "708feef7-7488-4865-b09a-acfb0dd201b1"
      },
      "source": [
        "b = ['서울','인천', '대전','제주도']\n",
        "print(b.index('제주도'))\n",
        "print(b[0:2])\n",
        "del b[1]\n",
        "print(b)\n",
        "b.remove('제주도')\n",
        "print(b)"
      ],
      "execution_count": null,
      "outputs": [
        {
          "output_type": "stream",
          "text": [
            "3\n",
            "['서울', '인천']\n",
            "['서울', '대전', '제주도']\n",
            "['서울', '대전']\n"
          ],
          "name": "stdout"
        }
      ]
    },
    {
      "cell_type": "code",
      "metadata": {
        "id": "qX1EzadD-1id",
        "colab": {
          "base_uri": "https://localhost:8080/",
          "height": 87
        },
        "outputId": "4414b482-7d68-4c4c-f0a6-42a89484d129"
      },
      "source": [
        "tel = {'홍길동': 1234, '이순신': 5678}\n",
        "# 추가\n",
        "tel['임꺽정'] = 9012\n",
        "print(tel)\n",
        "# 순서가 없기 때문에 인덱스로는 접근할수 없고, 키로 접근가능\n",
        "print(tel['홍길동'])\n",
        "#삭제\n",
        "del tel['홍길동']\n",
        "print(tel)\n",
        "print('이순신' in tel)\n"
      ],
      "execution_count": null,
      "outputs": [
        {
          "output_type": "stream",
          "text": [
            "{'홍길동': 1234, '이순신': 5678, '임꺽정': 9012}\n",
            "1234\n",
            "{'이순신': 5678, '임꺽정': 9012}\n",
            "True\n"
          ],
          "name": "stdout"
        }
      ]
    },
    {
      "cell_type": "code",
      "metadata": {
        "id": "8UivMNkBCFhh",
        "colab": {
          "base_uri": "https://localhost:8080/",
          "height": 52
        },
        "outputId": "4ee4d478-7370-458a-cbad-4959c9ab7e98"
      },
      "source": [
        "x = int(input(\"Please enter an integer: \"))\n",
        "if x < 0:\n",
        "    x = 0\n",
        "    print('Negative changed to zero')\n",
        "elif x == 0:\n",
        "    print('Zero')\n",
        "elif x == 1:\n",
        "    print('Single')\n",
        "else:\n",
        "    print('More')"
      ],
      "execution_count": null,
      "outputs": [
        {
          "output_type": "stream",
          "text": [
            "Please enter an integer: 1\n",
            "Single\n"
          ],
          "name": "stdout"
        }
      ]
    },
    {
      "cell_type": "code",
      "metadata": {
        "id": "xyzWppNdHQxt",
        "colab": {
          "base_uri": "https://localhost:8080/",
          "height": 193
        },
        "outputId": "1af31c51-b053-45be-acff-8875a1dc51f3"
      },
      "source": [
        "for i in range(10):\n",
        "    print(i)\n",
        "  "
      ],
      "execution_count": null,
      "outputs": [
        {
          "output_type": "stream",
          "text": [
            "0\n",
            "1\n",
            "2\n",
            "3\n",
            "4\n",
            "5\n",
            "6\n",
            "7\n",
            "8\n",
            "9\n"
          ],
          "name": "stdout"
        }
      ]
    },
    {
      "cell_type": "code",
      "metadata": {
        "id": "2ELKoFRxI8bZ",
        "colab": {
          "base_uri": "https://localhost:8080/",
          "height": 70
        },
        "outputId": "169a2909-0a38-4a4f-fa5c-0f16bedf3316"
      },
      "source": [
        "words = ['cat', 'window', 'defenestrate']\n",
        "for w in words:\n",
        "    print(w, len(w))\n",
        "  "
      ],
      "execution_count": null,
      "outputs": [
        {
          "output_type": "stream",
          "text": [
            "cat 3\n",
            "window 6\n",
            "defenestrate 12\n"
          ],
          "name": "stdout"
        }
      ]
    },
    {
      "cell_type": "code",
      "metadata": {
        "id": "_17GHgOfJPe7",
        "colab": {
          "base_uri": "https://localhost:8080/",
          "height": 193
        },
        "outputId": "9544b842-3dcb-4f26-a9f8-19fb02f1d9e5"
      },
      "source": [
        "num = 1\n",
        "while num <= 10:\n",
        "    print(num)\n",
        "    num = num + 1"
      ],
      "execution_count": null,
      "outputs": [
        {
          "output_type": "stream",
          "text": [
            "1\n",
            "2\n",
            "3\n",
            "4\n",
            "5\n",
            "6\n",
            "7\n",
            "8\n",
            "9\n",
            "10\n"
          ],
          "name": "stdout"
        }
      ]
    },
    {
      "cell_type": "code",
      "metadata": {
        "id": "-HTiVHEOL8qg",
        "colab": {
          "base_uri": "https://localhost:8080/",
          "height": 263
        },
        "outputId": "112d6e5d-7991-4cee-a9f6-d7847a1e6f4c"
      },
      "source": [
        "for n in range(2, 10):\n",
        "    for x in range(2, n):\n",
        "        if n % x == 0:\n",
        "            print(n, 'equals', x, '*', n//x)\n",
        "            break\n",
        "        else:\n",
        "            # loop fell through without finding a factor\n",
        "            print(n, 'is a prime number')"
      ],
      "execution_count": null,
      "outputs": [
        {
          "output_type": "stream",
          "text": [
            "3 is a prime number\n",
            "4 equals 2 * 2\n",
            "5 is a prime number\n",
            "5 is a prime number\n",
            "5 is a prime number\n",
            "6 equals 2 * 3\n",
            "7 is a prime number\n",
            "7 is a prime number\n",
            "7 is a prime number\n",
            "7 is a prime number\n",
            "7 is a prime number\n",
            "8 equals 2 * 4\n",
            "9 is a prime number\n",
            "9 equals 3 * 3\n"
          ],
          "name": "stdout"
        }
      ]
    },
    {
      "cell_type": "code",
      "metadata": {
        "id": "pjojsFN8MvV6",
        "colab": {
          "base_uri": "https://localhost:8080/",
          "height": 34
        },
        "outputId": "a62e0bf1-7fdc-4e79-dd37-f97e9ce5004b"
      },
      "source": [
        " def add(a, b):\n",
        "    return a+b\n",
        "a = 1\n",
        "b = 2\n",
        "c = add(a, b)\n",
        "print(c)"
      ],
      "execution_count": null,
      "outputs": [
        {
          "output_type": "stream",
          "text": [
            "3\n"
          ],
          "name": "stdout"
        }
      ]
    },
    {
      "cell_type": "code",
      "metadata": {
        "id": "tdSV0SNqOxlI"
      },
      "source": [
        ""
      ],
      "execution_count": null,
      "outputs": []
    }
  ]
}